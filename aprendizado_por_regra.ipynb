{
 "cells": [
  {
   "cell_type": "code",
   "execution_count": 3,
   "metadata": {},
   "outputs": [],
   "source": [
    "import Orange"
   ]
  },
  {
   "cell_type": "code",
   "execution_count": 11,
   "metadata": {},
   "outputs": [],
   "source": [
    "import Orange\n",
    "base = Orange.data.Table(r'D:/donwloads/credit_data_regras.csv')"
   ]
  },
  {
   "cell_type": "code",
   "execution_count": 12,
   "metadata": {},
   "outputs": [
    {
     "data": {
      "text/plain": [
       "[income, age, loan | default]"
      ]
     },
     "execution_count": 12,
     "metadata": {},
     "output_type": "execute_result"
    }
   ],
   "source": [
    "base.domain"
   ]
  },
  {
   "cell_type": "code",
   "execution_count": 18,
   "metadata": {},
   "outputs": [
    {
     "data": {
      "text/plain": [
       "([[62192.5, 46.0508, 1863.89 | 0],\n",
       "  [35578.2, 42.3946, 3640.85 | 0],\n",
       "  [61236.4, 36.0017, 6562.9 | 0],\n",
       "  [40185.8, 31.0008, 1002.34 | 0],\n",
       "  [33707.8, 59.9176, 321.579 | 0],\n",
       "  ...\n",
       " ],\n",
       " [[68743.4, 56.3853, 2290.2 | 0],\n",
       "  [39133.9, 21.6032, 433.458 | 0],\n",
       "  [54077.8, 57.1207, 7149.07 | 0],\n",
       "  [30530, 47.6044, 6046.84 | 0],\n",
       "  [43029.8, 27.2102, 6894.17 | 1],\n",
       "  ...\n",
       " ])"
      ]
     },
     "execution_count": 18,
     "metadata": {},
     "output_type": "execute_result"
    }
   ],
   "source": [
    "import Orange.evaluation\n",
    "\n",
    "# Defino que 75% será para treinamento, e 25% para teste\n",
    "base_treinamento_test = Orange.evaluation.testing.sample(base, n=0.25)\n",
    "\n",
    "# Imprimo a base, note que se forma uma lista, com 0 sendo a base de teste e 1 a base de treinamento\n",
    "base_treinamento_test"
   ]
  },
  {
   "cell_type": "code",
   "execution_count": 19,
   "metadata": {},
   "outputs": [
    {
     "name": "stdout",
     "output_type": "stream",
     "text": [
      "1500 500\n"
     ]
    }
   ],
   "source": [
    "base_treinamento = base_treinamento_test[1]\n",
    "base_teste = base_treinamento_test[0]\n",
    "\n",
    "print(len(base_treinamento), len(base_teste))"
   ]
  },
  {
   "cell_type": "code",
   "execution_count": 20,
   "metadata": {},
   "outputs": [],
   "source": [
    "cm2 = Orange.classification.rules.CN2Learner()\n",
    "regras = cm2(base_treinamento)"
   ]
  },
  {
   "cell_type": "code",
   "execution_count": 21,
   "metadata": {},
   "outputs": [
    {
     "name": "stdout",
     "output_type": "stream",
     "text": [
      "IF age>=34.9966813726351 THEN default=0 \n",
      "IF loan<=2495.13299137587 AND income>=20145.9885970689 THEN default=0 \n",
      "IF age<=18.075335860718 AND income>=50501.7266888171 THEN default=0 \n",
      "IF loan>=8045.4409532236705 THEN default=1 \n",
      "IF income>=58132.4712652713 THEN default=0 \n",
      "IF loan>=6342.56790924236 THEN default=1 \n",
      "IF income>=48790.1324336417 AND income>=50360.6787929311 THEN default=0 \n",
      "IF loan>=3665.88089899456 AND loan>=5836.56338145928 THEN default=1 \n",
      "IF income>=45311.831838917 THEN default=0 \n",
      "IF loan>=3944.2193177008794 AND age>=29.732926420401803 THEN default=1 \n",
      "IF loan>=4049.2538652253706 AND loan>=5233.66322803221 THEN default=1 \n",
      "IF income>=31702.3342987522 AND income>=40496.2558229454 THEN default=0 \n",
      "IF loan>=4462.82325767409 THEN default=1 \n",
      "IF income>=31702.3342987522 THEN default=0 \n",
      "IF loan>=3105.4430213977303 THEN default=1 \n",
      "IF income<=22089.8374845274 AND age>=21.3656869572587 THEN default=1 \n",
      "IF income>=24857.6948815025 THEN default=0 \n",
      "IF income>=24500.1419843175 THEN default=1 \n",
      "IF income<=22925.8120805025 THEN default=0 \n",
      "IF TRUE THEN default=0 \n"
     ]
    }
   ],
   "source": [
    "for regra in regras.rule_list:\n",
    "    print(regra)"
   ]
  },
  {
   "cell_type": "code",
   "execution_count": 22,
   "metadata": {},
   "outputs": [],
   "source": [
    "previsoes = Orange.evaluation.testing.TestOnTestData(base_treinamento, base_teste, [lambda testLambda: regras])"
   ]
  },
  {
   "cell_type": "code",
   "execution_count": 23,
   "metadata": {},
   "outputs": [
    {
     "data": {
      "text/plain": [
       "<Orange.evaluation.testing.Results at 0x1ccde33a1b0>"
      ]
     },
     "execution_count": 23,
     "metadata": {},
     "output_type": "execute_result"
    }
   ],
   "source": [
    "previsoes"
   ]
  },
  {
   "cell_type": "markdown",
   "metadata": {},
   "source": [
    "### Esse algotitmo tem confiabilidade de 99% para essa base de dados"
   ]
  },
  {
   "cell_type": "code",
   "execution_count": 24,
   "metadata": {},
   "outputs": [
    {
     "data": {
      "text/plain": [
       "array([0.99])"
      ]
     },
     "execution_count": 24,
     "metadata": {},
     "output_type": "execute_result"
    }
   ],
   "source": [
    "Orange.evaluation.CA(previsoes)"
   ]
  }
 ],
 "metadata": {
  "kernelspec": {
   "display_name": "Python 3",
   "language": "python",
   "name": "python3"
  },
  "language_info": {
   "codemirror_mode": {
    "name": "ipython",
    "version": 3
   },
   "file_extension": ".py",
   "mimetype": "text/x-python",
   "name": "python",
   "nbconvert_exporter": "python",
   "pygments_lexer": "ipython3",
   "version": "3.12.0"
  }
 },
 "nbformat": 4,
 "nbformat_minor": 2
}
